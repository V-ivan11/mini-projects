{
 "cells": [
  {
   "cell_type": "markdown",
   "metadata": {
    "id": "5O5_sKvcU9-d"
   },
   "source": [
    "*Construir un programa en el cual sólo definiremos la función y pueda aplicar los métodos de bisección, falsa posición, secante y en su caso el método de Müller si es un polinomio. Únicamente se ingresará un intervalo y el error, y regresará una aproximación de la raíz.*\n",
    "\n",
    "**Procedimiento:**\n",
    "\n",
    "Para realizar este programa, necesitaremos declarar las funciones base para cada uno de los métodos:\n",
    "\n",
    "*   Método de bisección\n",
    "*   Falsa posición\n",
    "*   Método de Secante\n",
    "*   Método de Müller\n",
    "\n",
    "Pero antes que eso, necesitaremos importar ciertas librerías que nos ayudarán a abstraer las funciones del usuario y brindarnos algunas bondades extra del lenguaje.\n",
    "\n",
    "\n"
   ]
  },
  {
   "cell_type": "code",
   "execution_count": 1,
   "metadata": {
    "id": "awgKT8vhGsrC"
   },
   "outputs": [],
   "source": [
    "#Importamos librerías\n",
    "\n",
    "#Redondeo por debajo\n",
    "from math import ceil\n",
    "#Funciones matemáticas comúnes\n",
    "from numpy import pi, sin, cos, tan, log, log10, exp, sqrt"
   ]
  },
  {
   "cell_type": "code",
   "execution_count": 2,
   "metadata": {
    "id": "W_1Gz_OyVDb6"
   },
   "outputs": [],
   "source": [
    "#Método de bisección iterativo\n",
    "def metBiseccion(a, b, fx, etol, error, k, panterior):\n",
    "    if fx(a)*fx(b)>0:\n",
    "      print('No existen raices de la funcion objetivo en el intervalo dado \\n')\n",
    "      return \"Error\"\n",
    "    \n",
    "    # En este caso se ha encontrado la raíz y esta puede estar en a o en b.\n",
    "    elif fx(a)*fx(b)==0:\n",
    "        if fx(a)==0:\n",
    "            return a\n",
    "        else:\n",
    "            return b\n",
    "    \n",
    "    elif error > etol and k < 100:\n",
    "        # Calculamos el punto medio\n",
    "        pmedio = a + 0.5*(b-a)\n",
    "        k = k + 1\n",
    "        if fx(a)*fx(pmedio)<0:\n",
    "            # Redefinimos b = punto medio\n",
    "            b = pmedio\n",
    "        elif fx(pmedio)*fx(b)<0:\n",
    "            # Redefinimos a = punto medio\n",
    "            a = pmedio\n",
    "        else:\n",
    "            # Se ha encontrada la raíz y regresamos la raíz\n",
    "            return pmedio\n",
    "        error = abs((pmedio - panterior)/panterior)\n",
    "        # Llamamos a la función\n",
    "        return metBiseccion(a, b, fx, etol, error, k, pmedio)\n",
    "    else:\n",
    "        # Devolvemos el último valor, después del max\n",
    "        return panterior"
   ]
  },
  {
   "cell_type": "markdown",
   "metadata": {
    "id": "iq5g767TaT6e"
   },
   "source": [
    "Ahora el método de Falsa posición, cambiando el punto medio por una ecuación de la recta, brindándonos una mejor aproximación cada iteración:\n",
    "\n",
    "$$c=b-f\\left(b\\right)\\left[\\frac{b-a}{f\\left(b\\right)-f\\left(a\\right)}\\right]$$"
   ]
  },
  {
   "cell_type": "code",
   "execution_count": 3,
   "metadata": {
    "id": "tWJjnv8GaZEU"
   },
   "outputs": [],
   "source": [
    "#Método Falsa posición\n",
    "def metFalsaPosicion(a, b, fx, etol, error, k, panterior):\n",
    "    if fx(a)*fx(b)>0:\n",
    "      print('No existen raices de la funcion objetivo en el intervalo dado \\n')\n",
    "      return \"Error\"\n",
    "    \n",
    "    # En este caso se ha encontrado la raíz y esta puede estar en a o en b.\n",
    "    elif fx(a)*fx(b)==0:\n",
    "        if fx(a)==0:\n",
    "            return a\n",
    "        else:\n",
    "            return b\n",
    "\n",
    "    elif error > etol and k < 100:\n",
    "        # Usamos al modelo matemático del método de falsa posición\n",
    "        pmedio = b-fx(b)*((b-a)/(fx(b)-fx(a)))\n",
    "        k = k + 1\n",
    "        # Redifinimos a o b\n",
    "        if fx(a)*fx(pmedio)<0:\n",
    "            b = pmedio\n",
    "        elif fx(pmedio)*fx(b)<0:\n",
    "            a = pmedio\n",
    "        else:\n",
    "        # Encontramos la raíz, la devolvemos\n",
    "            return pmedio\n",
    "        error = abs((pmedio - panterior)/panterior)\n",
    "        # Llamamos a la función\n",
    "        return metFalsaPosicion(a, b, fx, etol, error, k, pmedio)\n",
    "    else:\n",
    "        #Devolvemos el último valor\n",
    "        return panterior"
   ]
  },
  {
   "cell_type": "markdown",
   "metadata": {
    "id": "yZ2b1xsMfEx9"
   },
   "source": [
    "Para el método Secante se necesitan 2 aproximaciones iniciales, y con ellas  ocuparemos este método dado por:\n",
    "\n",
    "$$p_n = p_{n-1} - \\frac{f\\left(p_{n-1}\\right)\\left(p_{n-1}-p_{n-2}\\right)}{f\\left(p_{n-1}\\right)-f\\left(p_{n-2}\\right)}$$"
   ]
  },
  {
   "cell_type": "code",
   "execution_count": 4,
   "metadata": {
    "id": "eIHIbxYuetmN"
   },
   "outputs": [],
   "source": [
    "#Método Secante\n",
    "def metSecante(p0, p1, fx, etol, error, k):\n",
    "    if fx(p1)==0:\n",
    "        return p1\n",
    "    \n",
    "    # Dado que existe una raíz en el intervalo comenzaremos el proceso iterativo\n",
    "    elif error > etol and k < 100:\n",
    "        # Calculamos p_n con el modelo matemático recursivo\n",
    "        psecante = p1 - fx(p1)*(p1-p0)/(fx(p1)-fx(p0))\n",
    "        k = k + 1\n",
    "        error = abs(p1 - psecante) + abs(fx(psecante)) # Error de aproximaciones\n",
    "        p0 = p1\n",
    "        p1 = psecante\n",
    "        #Llamamos a la función\n",
    "        return metSecante(p0, p1, fx, etol, error, k)\n",
    "    else:\n",
    "        # Devolvemos el último valor\n",
    "        return p1"
   ]
  },
  {
   "cell_type": "markdown",
   "metadata": {
    "id": "6o72gqwAj34T"
   },
   "source": [
    "En caso de que la función de entrada sea un polinomio, ocuparemos el método de Müller, que se basa en acoplar el polinomio de grado $n$ a uno cuadrático, con el fin de ocupar la famosa fórmula general, finalmente el método de Müller se describe de la siguiente manera:\n",
    "\n",
    "$$p_{n+1} = p_n - \\frac{2c}{b + sgn\\left(b\\right)\\sqrt{b^2 - 4ac}}$$"
   ]
  },
  {
   "cell_type": "code",
   "execution_count": 5,
   "metadata": {
    "id": "dwRIp4Rmj5HS"
   },
   "outputs": [],
   "source": [
    "# Definimos la función signo\n",
    "def sgn(x):\n",
    "    if x > 0:\n",
    "        return 1\n",
    "    elif x < 0:\n",
    "        return -1\n",
    "    else:\n",
    "        return 0\n",
    "\n",
    "# Método Müller\n",
    "def metMuller(p0, p1, p2, fx, etol, error, k):\n",
    "    if fx(p2)==0:\n",
    "        return p2\n",
    "    \n",
    "    # Dado que existe una raíz en el intervalo comenzaremos el proceso iterativo\n",
    "    elif error > etol and k < 100:\n",
    "      # Actualizamos Coeficientes\n",
    "        # Calculamos el punto medio\n",
    "        f1 = fx(p1) - fx(p2)\n",
    "        f2 = fx(p0) - fx(p2)\n",
    "        x1 = p0 - p1\n",
    "        x2 = p1 - p2\n",
    "        x3 = p0 - p2\n",
    "        \n",
    "        # Calculamos el coeficiente a,b y c\n",
    "        a = (f2 * x2 - f1 * x3) / (x3 * x2 * x1)\n",
    "        b = (f1 * x3 * x3 - f2 * x2 * x2) / (x3 * x2 * x1)\n",
    "        c = fx(p2)\n",
    "\n",
    "        k = k + 1\n",
    "        \n",
    "        p0 = p1\n",
    "        p1 = p2\n",
    "\n",
    "        # Calculamos p_n+1 con los datos anteriores\n",
    "        p2 = p1 - (2*c)/(b+(sgn(b))*sqrt(b**2 -4*a*c + 0j))\n",
    "\n",
    "        error = abs(fx(p2))\n",
    "        # Llamamos a la función\n",
    "        return metMuller(p0, p1, p2, fx, etol, error, k)\n",
    "    else:\n",
    "        # Devolvemos el último valor\n",
    "        return p2"
   ]
  },
  {
   "cell_type": "code",
   "execution_count": 6,
   "metadata": {
    "id": "gYFend5Mifx_"
   },
   "outputs": [],
   "source": [
    "# Función para unificar los métodos\n",
    "def unionMetodos(p1, p2, errorT, fx, esPoli):\n",
    "    print(\"Raíz de la función con error de\", errorT, \"en el intervalo [\",p1,\", \",p2,\"]\")\n",
    "    print(\"Bisección: \", metBiseccion(p1, p2, fx, errorT, 1000, 0, p2))\n",
    "    print(\"Falsa Posición: \", metFalsaPosicion(p1, p2, fx, errorT, 1000, 0, p2))\n",
    "    print(\"Secante: \", metSecante(p1, p2, fx, errorT, 1000, 0))\n",
    "    # En caso de polinomio\n",
    "    if esPoli:\n",
    "        print(\"Müller: \", metMuller(p1, p2, p1+p2, fx, errorT, 1000, 0))\n",
    "\n",
    "    print(\"\\n\")"
   ]
  },
  {
   "cell_type": "markdown",
   "metadata": {
    "id": "fRqALh58djwv"
   },
   "source": [
    "Ahora usaremos una demostración para utilizar los métodos numéricos anteriormente implementados de manera recursiva, a una función no polinómica y polinómica:\n",
    "\n",
    "$$f_{d1}(x) = 2-xe^x\\\\\n",
    "f_{d2}(x) =3 x^5+2 x^2+x/2$$\n",
    "\n",
    "Con un error en ambas de $1\\times10^{-10}$ y dentro de los intervalos $[0, 1]$ y $[-1, -0.5]$ respectivamente."
   ]
  },
  {
   "cell_type": "code",
   "execution_count": 7,
   "metadata": {
    "id": "7g-4WiLgeUMm"
   },
   "outputs": [],
   "source": [
    "def f_d1(x):\n",
    "    return 2-x*exp(x)\n",
    "\n",
    "def f_d2(x):\n",
    "    return 3*x**5+2*x**2+x/2"
   ]
  },
  {
   "cell_type": "code",
   "execution_count": 8,
   "metadata": {
    "id": "55P_BXBuenZF"
   },
   "outputs": [],
   "source": [
    "p11 = 0\n",
    "p12 = 1\n",
    "p21 = -1\n",
    "p22 = -0.5\n",
    "errorT = 10**-10"
   ]
  },
  {
   "cell_type": "code",
   "execution_count": 9,
   "metadata": {
    "colab": {
     "base_uri": "https://localhost:8080/"
    },
    "id": "OFv044JBfeOm",
    "outputId": "0064076c-46fa-4e61-a9ce-bb3828d27306"
   },
   "outputs": [
    {
     "name": "stdout",
     "output_type": "stream",
     "text": [
      "Raíz de la función con error de 1e-10 en el intervalo [ 0 ,  1 ]\n",
      "Bisección:  0.8526055020629428\n",
      "Falsa Posición:  0.8526055020108265\n",
      "Secante:  0.8526055020137255\n",
      "\n",
      "\n",
      "Raíz de la función con error de 1e-10 en el intervalo [ -1 ,  -0.5 ]\n",
      "Bisección:  -0.7657499688793905\n",
      "Falsa Posición:  -0.7657499688609568\n",
      "Secante:  -0.2564921337892874\n",
      "Müller:  (-0.7657499689282056-1.8635503552593144e-18j)\n",
      "\n",
      "\n"
     ]
    }
   ],
   "source": [
    "unionMetodos(p11, p12, errorT, f_d1, False)\n",
    "unionMetodos(p21, p22, errorT, f_d2, True)"
   ]
  },
  {
   "cell_type": "markdown",
   "metadata": {
    "id": "BfWBrlWjni8z"
   },
   "source": [
    "Teniendo para la primera función resultados similares en la raíz hasta el $1\\times10^{-10}$ y para la segunda función, que es polinómica, 3 raíces diferentes, teniendo los mismos resultados para el método de Bisección y Falsa Posición.\n",
    "Ahora dejaremos el siguiente apartado para que el usuario final utilice los métodos para una función cualquiera:"
   ]
  },
  {
   "cell_type": "code",
   "execution_count": null,
   "metadata": {
    "id": "DmQA0OM3pDlf"
   },
   "outputs": [],
   "source": [
    "# Inserte el intervalo y el error tolerable para su función\n",
    "p1 =\n",
    "p2 =\n",
    "errorT ="
   ]
  },
  {
   "cell_type": "code",
   "execution_count": null,
   "metadata": {
    "id": "X6EXVizqpMne"
   },
   "outputs": [],
   "source": [
    "# Coloque su función seguido del return\n",
    "def fx(x):\n",
    "    return"
   ]
  },
  {
   "cell_type": "code",
   "execution_count": null,
   "metadata": {
    "id": "IateZwtXpriz"
   },
   "outputs": [],
   "source": [
    "# Función para llamar a los métodos\n",
    "# Ponga True si es polinomio, si no, False\n",
    "unionMetodos(p1, p2, errorT, fx, True)"
   ]
  }
 ],
 "metadata": {
  "colab": {
   "name": "Ejercicio 2_8 opcional.ipynb",
   "provenance": []
  },
  "kernelspec": {
   "display_name": "Python 3",
   "language": "python",
   "name": "python3"
  },
  "language_info": {
   "codemirror_mode": {
    "name": "ipython",
    "version": 3
   },
   "file_extension": ".py",
   "mimetype": "text/x-python",
   "name": "python",
   "nbconvert_exporter": "python",
   "pygments_lexer": "ipython3",
   "version": "3.8.8"
  }
 },
 "nbformat": 4,
 "nbformat_minor": 1
}
